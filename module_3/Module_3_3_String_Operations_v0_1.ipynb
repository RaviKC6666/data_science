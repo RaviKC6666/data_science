{
  "nbformat": 4,
  "nbformat_minor": 0,
  "metadata": {
    "colab": {
      "name": "Module_3.3_String_Operations_v0.1.ipynb",
      "version": "0.3.2",
      "provenance": [],
      "include_colab_link": true
    },
    "language_info": {
      "codemirror_mode": {
        "name": "ipython",
        "version": 3
      },
      "file_extension": ".py",
      "mimetype": "text/x-python",
      "name": "python",
      "nbconvert_exporter": "python",
      "pygments_lexer": "ipython3",
      "version": "3.5.2"
    },
    "kernelspec": {
      "display_name": "Python 3",
      "language": "python",
      "name": "python3"
    }
  },
  "cells": [
    {
      "cell_type": "markdown",
      "metadata": {
        "id": "view-in-github",
        "colab_type": "text"
      },
      "source": [
        "<a href=\"https://colab.research.google.com/github/RaviKC6666/data_science/blob/master/module_3/Module_3_3_String_Operations_v0_1.ipynb\" target=\"_parent\"><img src=\"https://colab.research.google.com/assets/colab-badge.svg\" alt=\"Open In Colab\"/></a>"
      ]
    },
    {
      "cell_type": "markdown",
      "metadata": {
        "id": "jKVuVNDwow_U",
        "colab_type": "text"
      },
      "source": [
        "#String Operations"
      ]
    },
    {
      "cell_type": "markdown",
      "metadata": {
        "id": "QFfroUH2ow_U",
        "colab_type": "text"
      },
      "source": [
        "<br>"
      ]
    },
    {
      "cell_type": "markdown",
      "metadata": {
        "id": "ZAX-lS6gow_V",
        "colab_type": "text"
      },
      "source": [
        "## Table of Contents\n",
        "\n",
        "\n",
        "<div class=\"alert alert-block alert-info\" style=\"margin-top: 20px\">\n",
        "<li><a href=\"#ref0\">Strings</a></li>\n",
        "<li><a href=\"#ref1\">Indexing</a></li>\n",
        "<li><a href=\"#ref2\">Escape Sequences </a></li>\n",
        "<li><a href=\"#ref3\">String Operations</a></li>\n",
        "<li><a href=\"#ref4\">Quizz </a></li>\n",
        "<br>\n",
        "<p></p>\n",
        "Estimated Time Needed: <strong>15 min</strong>\n",
        "</div>\n",
        "\n",
        "<hr>"
      ]
    },
    {
      "cell_type": "markdown",
      "metadata": {
        "id": "EO7JzA26ow_V",
        "colab_type": "text"
      },
      "source": [
        "<a id=\"ref0\"></a>\n",
        "<h2 align=center>Strings </h2>"
      ]
    },
    {
      "cell_type": "markdown",
      "metadata": {
        "id": "I6sZSwxzow_W",
        "colab_type": "text"
      },
      "source": [
        " A string is contained within 2 quotes:"
      ]
    },
    {
      "cell_type": "code",
      "metadata": {
        "id": "HCt4OJ4Low_W",
        "colab_type": "code",
        "colab": {
          "base_uri": "https://localhost:8080/",
          "height": 34
        },
        "outputId": "3ce00dc1-2550-4ab0-8691-764aa867811a"
      },
      "source": [
        "\"Michael Jackson\""
      ],
      "execution_count": 3,
      "outputs": [
        {
          "output_type": "execute_result",
          "data": {
            "text/plain": [
              "'Michael Jackson'"
            ]
          },
          "metadata": {
            "tags": []
          },
          "execution_count": 3
        }
      ]
    },
    {
      "cell_type": "code",
      "metadata": {
        "id": "cEQWep5TyQk_",
        "colab_type": "code",
        "colab": {}
      },
      "source": [
        ""
      ],
      "execution_count": 0,
      "outputs": []
    },
    {
      "cell_type": "markdown",
      "metadata": {
        "id": "YnVUIQ5jow_Z",
        "colab_type": "text"
      },
      "source": [
        "You can also use single  quotes:"
      ]
    },
    {
      "cell_type": "code",
      "metadata": {
        "id": "5HgVmE8Oow_Z",
        "colab_type": "code",
        "colab": {
          "base_uri": "https://localhost:8080/",
          "height": 34
        },
        "outputId": "a122cf9b-79e3-41bc-af7d-fd5cd322bec4"
      },
      "source": [
        "'Michael Jackson'"
      ],
      "execution_count": 4,
      "outputs": [
        {
          "output_type": "execute_result",
          "data": {
            "text/plain": [
              "'Michael Jackson'"
            ]
          },
          "metadata": {
            "tags": []
          },
          "execution_count": 4
        }
      ]
    },
    {
      "cell_type": "markdown",
      "metadata": {
        "id": "w5heHvBIow_c",
        "colab_type": "text"
      },
      "source": [
        "A string can be spaces and digits: "
      ]
    },
    {
      "cell_type": "code",
      "metadata": {
        "id": "SRWrboaOow_c",
        "colab_type": "code",
        "colab": {
          "base_uri": "https://localhost:8080/",
          "height": 34
        },
        "outputId": "4965c0ce-6072-442b-f4ad-838e7830c6df"
      },
      "source": [
        "'1 2 3 4 5 6 '"
      ],
      "execution_count": 5,
      "outputs": [
        {
          "output_type": "execute_result",
          "data": {
            "text/plain": [
              "'1 2 3 4 5 6 '"
            ]
          },
          "metadata": {
            "tags": []
          },
          "execution_count": 5
        }
      ]
    },
    {
      "cell_type": "markdown",
      "metadata": {
        "id": "B2JCxMy-ow_e",
        "colab_type": "text"
      },
      "source": [
        "A string can also be special characters : "
      ]
    },
    {
      "cell_type": "code",
      "metadata": {
        "id": "L1ytIf_Dow_e",
        "colab_type": "code",
        "colab": {
          "base_uri": "https://localhost:8080/",
          "height": 34
        },
        "outputId": "be034e23-b992-4653-f53a-1bf3d2392a67"
      },
      "source": [
        "'@#2_#]&*^%$'"
      ],
      "execution_count": 6,
      "outputs": [
        {
          "output_type": "execute_result",
          "data": {
            "text/plain": [
              "'@#2_#]&*^%$'"
            ]
          },
          "metadata": {
            "tags": []
          },
          "execution_count": 6
        }
      ]
    },
    {
      "cell_type": "markdown",
      "metadata": {
        "id": "g-USaYFcow_g",
        "colab_type": "text"
      },
      "source": [
        "We can print our string using the print statement:"
      ]
    },
    {
      "cell_type": "code",
      "metadata": {
        "id": "e9Pynhgkow_h",
        "colab_type": "code",
        "colab": {
          "base_uri": "https://localhost:8080/",
          "height": 34
        },
        "outputId": "6e9c0e5b-b8e0-4363-bf85-2e9a7d63dac7"
      },
      "source": [
        "print(\"hello!\")"
      ],
      "execution_count": 7,
      "outputs": [
        {
          "output_type": "stream",
          "text": [
            "hello!\n"
          ],
          "name": "stdout"
        }
      ]
    },
    {
      "cell_type": "markdown",
      "metadata": {
        "id": "g2PaYdtoow_j",
        "colab_type": "text"
      },
      "source": [
        "We can bind or assign a string to another variable:\n"
      ]
    },
    {
      "cell_type": "code",
      "metadata": {
        "id": "KgXT16N7ow_k",
        "colab_type": "code",
        "colab": {
          "base_uri": "https://localhost:8080/",
          "height": 34
        },
        "outputId": "1c44c3fb-1f19-4126-ffce-dab3616f12bb"
      },
      "source": [
        "Name= \"Michael Jackson\"\n",
        "Name"
      ],
      "execution_count": 8,
      "outputs": [
        {
          "output_type": "execute_result",
          "data": {
            "text/plain": [
              "'Michael Jackson'"
            ]
          },
          "metadata": {
            "tags": []
          },
          "execution_count": 8
        }
      ]
    },
    {
      "cell_type": "markdown",
      "metadata": {
        "id": "IgWc8G6How_n",
        "colab_type": "text"
      },
      "source": [
        " <a id=\"ref1\"></a>\n",
        "<h2 align=center>Indexing </h2>"
      ]
    },
    {
      "cell_type": "markdown",
      "metadata": {
        "id": "bfGwQRs_ow_n",
        "colab_type": "text"
      },
      "source": [
        "It is helpful to think of a string as an ordered sequence. Each element in the sequence can be accessed using an index represented by the array of numbers:  "
      ]
    },
    {
      "cell_type": "markdown",
      "metadata": {
        "id": "1GjuadVdow_o",
        "colab_type": "text"
      },
      "source": [
        " <img src = \"https://ibm.box.com/shared/static/esdu9w118rm1aldff7ff8c9b3kpjdazc.png\" width = 600, align = \"center\"></a>"
      ]
    },
    {
      "cell_type": "markdown",
      "metadata": {
        "id": "lD_lAnz2ow_p",
        "colab_type": "text"
      },
      "source": [
        " The first index can be accessed as follows:"
      ]
    },
    {
      "cell_type": "code",
      "metadata": {
        "id": "tQFBQs6Uow_p",
        "colab_type": "code",
        "colab": {
          "base_uri": "https://localhost:8080/",
          "height": 34
        },
        "outputId": "1163c0fa-eda1-46a1-8dcc-a35ca1369341"
      },
      "source": [
        "print(Name[13])"
      ],
      "execution_count": 9,
      "outputs": [
        {
          "output_type": "stream",
          "text": [
            "o\n"
          ],
          "name": "stdout"
        }
      ]
    },
    {
      "cell_type": "markdown",
      "metadata": {
        "id": "e70fC1EFow_r",
        "colab_type": "text"
      },
      "source": [
        " We can access index 6:"
      ]
    },
    {
      "cell_type": "code",
      "metadata": {
        "id": "VSIhY7xAow_s",
        "colab_type": "code",
        "colab": {
          "base_uri": "https://localhost:8080/",
          "height": 34
        },
        "outputId": "6b49d2dd-f075-4de0-a100-6f948804b134"
      },
      "source": [
        "print(Name[6])"
      ],
      "execution_count": 10,
      "outputs": [
        {
          "output_type": "stream",
          "text": [
            "l\n"
          ],
          "name": "stdout"
        }
      ]
    },
    {
      "cell_type": "markdown",
      "metadata": {
        "id": "2OLBURZ0ow_t",
        "colab_type": "text"
      },
      "source": [
        "Moreover, we can access the 13th index:"
      ]
    },
    {
      "cell_type": "code",
      "metadata": {
        "id": "vzP6p1K-ow_u",
        "colab_type": "code",
        "colab": {
          "base_uri": "https://localhost:8080/",
          "height": 34
        },
        "outputId": "2e3bbebd-da7b-4890-8f38-427d223a1922"
      },
      "source": [
        "print(Name[13])"
      ],
      "execution_count": 11,
      "outputs": [
        {
          "output_type": "stream",
          "text": [
            "o\n"
          ],
          "name": "stdout"
        }
      ]
    },
    {
      "cell_type": "markdown",
      "metadata": {
        "id": "9AP2l6Clow_w",
        "colab_type": "text"
      },
      "source": [
        " We can also use negative indexing with strings:"
      ]
    },
    {
      "cell_type": "markdown",
      "metadata": {
        "id": "Xj7p4HbcvPWw",
        "colab_type": "text"
      },
      "source": [
        ""
      ]
    },
    {
      "cell_type": "markdown",
      "metadata": {
        "id": "ZC3wqqsUow_w",
        "colab_type": "text"
      },
      "source": [
        "<img src = \"https://ibm.box.com/shared/static/rmq8akevtt6uufox3xai7q2kqs4j9kan.png\" width = 600, align = \"center\"></a>"
      ]
    },
    {
      "cell_type": "markdown",
      "metadata": {
        "id": "n4Ryd_2Cow_y",
        "colab_type": "text"
      },
      "source": [
        " The last element is given by the  index -1: "
      ]
    },
    {
      "cell_type": "code",
      "metadata": {
        "id": "xqTBuDFHow_z",
        "colab_type": "code",
        "colab": {
          "base_uri": "https://localhost:8080/",
          "height": 34
        },
        "outputId": "478a4447-6988-4b5e-ad41-37f02447d3c3"
      },
      "source": [
        "print(Name[-1])"
      ],
      "execution_count": 12,
      "outputs": [
        {
          "output_type": "stream",
          "text": [
            "n\n"
          ],
          "name": "stdout"
        }
      ]
    },
    {
      "cell_type": "markdown",
      "metadata": {
        "id": "FIq8xilbow_2",
        "colab_type": "text"
      },
      "source": [
        " The first element can be obtained by  index -15:"
      ]
    },
    {
      "cell_type": "code",
      "metadata": {
        "id": "VL26vILLow_3",
        "colab_type": "code",
        "colab": {
          "base_uri": "https://localhost:8080/",
          "height": 34
        },
        "outputId": "e478888a-a8ee-4bc1-dd4f-d978c7f1ee68"
      },
      "source": [
        "print(Name[-15])"
      ],
      "execution_count": 13,
      "outputs": [
        {
          "output_type": "stream",
          "text": [
            "M\n"
          ],
          "name": "stdout"
        }
      ]
    },
    {
      "cell_type": "markdown",
      "metadata": {
        "id": "82H69ZLFow_5",
        "colab_type": "text"
      },
      "source": [
        " We can find the number of characters in a string by using 'len', short for length:"
      ]
    },
    {
      "cell_type": "code",
      "metadata": {
        "id": "UVDOTYBDow_6",
        "colab_type": "code",
        "colab": {
          "base_uri": "https://localhost:8080/",
          "height": 34
        },
        "outputId": "29f3aa99-4d61-498f-80a0-6f60774bcedb"
      },
      "source": [
        "len(\"Michael Jackson\")"
      ],
      "execution_count": 15,
      "outputs": [
        {
          "output_type": "execute_result",
          "data": {
            "text/plain": [
              "15"
            ]
          },
          "metadata": {
            "tags": []
          },
          "execution_count": 15
        }
      ]
    },
    {
      "cell_type": "markdown",
      "metadata": {
        "id": "5rrJ8DLUow_8",
        "colab_type": "text"
      },
      "source": [
        "We can obtain multiple characters from a string using slicing, we can obtain the 0 to 4th and 8th to the 12th element:  "
      ]
    },
    {
      "cell_type": "code",
      "metadata": {
        "id": "0wrpyPBCow_-",
        "colab_type": "code",
        "colab": {
          "base_uri": "https://localhost:8080/",
          "height": 34
        },
        "outputId": "b5b47c1c-f901-460d-bd61-eec2ff295f92"
      },
      "source": [
        "Name[0:4]"
      ],
      "execution_count": 16,
      "outputs": [
        {
          "output_type": "execute_result",
          "data": {
            "text/plain": [
              "'Mich'"
            ]
          },
          "metadata": {
            "tags": []
          },
          "execution_count": 16
        }
      ]
    },
    {
      "cell_type": "code",
      "metadata": {
        "id": "4AUm3HRFoxAA",
        "colab_type": "code",
        "colab": {
          "base_uri": "https://localhost:8080/",
          "height": 34
        },
        "outputId": "aac8adfe-1425-42c7-fe64-33c22fb3ae53"
      },
      "source": [
        "Name[8:12]"
      ],
      "execution_count": 17,
      "outputs": [
        {
          "output_type": "execute_result",
          "data": {
            "text/plain": [
              "'Jack'"
            ]
          },
          "metadata": {
            "tags": []
          },
          "execution_count": 17
        }
      ]
    },
    {
      "cell_type": "markdown",
      "metadata": {
        "id": "Id9FLsIkoxAC",
        "colab_type": "text"
      },
      "source": [
        " We can also  input a stride value as follows, with the '2' indicating that we are selecting every second variable:"
      ]
    },
    {
      "cell_type": "code",
      "metadata": {
        "id": "kx-gBFzboxAD",
        "colab_type": "code",
        "colab": {}
      },
      "source": [
        "Name[::2]"
      ],
      "execution_count": 0,
      "outputs": []
    },
    {
      "cell_type": "markdown",
      "metadata": {
        "id": "hVL1tCamoxAF",
        "colab_type": "text"
      },
      "source": [
        "We can also incorporate slicing  with the stride. In this case, we select the first five elements and then use the stride: "
      ]
    },
    {
      "cell_type": "code",
      "metadata": {
        "id": "YBJLY0bPoxAG",
        "colab_type": "code",
        "colab": {}
      },
      "source": [
        "Name[0:5:2]"
      ],
      "execution_count": 0,
      "outputs": []
    },
    {
      "cell_type": "code",
      "metadata": {
        "id": "x9xvj7VWoxAH",
        "colab_type": "code",
        "colab": {}
      },
      "source": [
        ""
      ],
      "execution_count": 0,
      "outputs": []
    },
    {
      "cell_type": "markdown",
      "metadata": {
        "id": "Pn0Cmi1PoxAJ",
        "colab_type": "text"
      },
      "source": [
        "We can concatenate or combine strings by using the addition symbols, and the result is a new string that is a combination of both:\n"
      ]
    },
    {
      "cell_type": "code",
      "metadata": {
        "id": "gVZkkfJ8oxAJ",
        "colab_type": "code",
        "colab": {}
      },
      "source": [
        "Statement = Name + \"is the best\"\n",
        "Statement"
      ],
      "execution_count": 0,
      "outputs": []
    },
    {
      "cell_type": "markdown",
      "metadata": {
        "id": "N5l-PG7soxAL",
        "colab_type": "text"
      },
      "source": [
        " To replicate values of a string we simply multiply the string by the number of times we would like to replicate it. In this case, the number is three. The result is a new string, and this new string consists of three copies of the original string:\n"
      ]
    },
    {
      "cell_type": "code",
      "metadata": {
        "id": "t2_VInsHoxAL",
        "colab_type": "code",
        "colab": {}
      },
      "source": [
        "3*\"Michael Jackson \""
      ],
      "execution_count": 0,
      "outputs": []
    },
    {
      "cell_type": "markdown",
      "metadata": {
        "id": "mtdyLRHYoxAN",
        "colab_type": "text"
      },
      "source": [
        "You can create a new string by setting it to the original variable. Concatenated  with a new string, the result is a new string that changes from Michael Jackson to “Michael Jackson is the best\".\n"
      ]
    },
    {
      "cell_type": "code",
      "metadata": {
        "id": "zQC49ctwoxAO",
        "colab_type": "code",
        "colab": {}
      },
      "source": [
        "Name= \"Michael Jackson\"\n",
        "Name= Name+\" is the best\"\n",
        "Name\n"
      ],
      "execution_count": 0,
      "outputs": []
    },
    {
      "cell_type": "markdown",
      "metadata": {
        "id": "pUiB4DmHoxAP",
        "colab_type": "text"
      },
      "source": [
        " <a id=\"ref2\"></a>\n",
        "<h2 align=center>Escape Sequences  </h2>"
      ]
    },
    {
      "cell_type": "markdown",
      "metadata": {
        "id": "-e0kP8EioxAP",
        "colab_type": "text"
      },
      "source": [
        "Back slashes represent the beginning  of escape sequences. Escape sequences represent strings that may be difficult to input. For example, back slash \"n\" represents a new line. The output is given by a new line after the back slash \"n” is encountered:\n"
      ]
    },
    {
      "cell_type": "code",
      "metadata": {
        "id": "4AcF_noXoxAQ",
        "colab_type": "code",
        "colab": {}
      },
      "source": [
        "print(\" Michael Jackson \\n is the best\" )"
      ],
      "execution_count": 0,
      "outputs": []
    },
    {
      "cell_type": "markdown",
      "metadata": {
        "id": "OGLhIbDzoxAR",
        "colab_type": "text"
      },
      "source": [
        "Similarly, back slash  \"t\" represents a tab: "
      ]
    },
    {
      "cell_type": "code",
      "metadata": {
        "id": "papq5ApIoxAS",
        "colab_type": "code",
        "colab": {}
      },
      "source": [
        "print(\" Michael Jackson \\t is the best\" )"
      ],
      "execution_count": 0,
      "outputs": []
    },
    {
      "cell_type": "markdown",
      "metadata": {
        "id": "zaQQ9bYgoxAU",
        "colab_type": "text"
      },
      "source": [
        " If you want to place a back slash in your string, use a double back slash:"
      ]
    },
    {
      "cell_type": "code",
      "metadata": {
        "id": "50VhHTikoxAV",
        "colab_type": "code",
        "colab": {}
      },
      "source": [
        "print(\" Michael Jackson \\\\ is the best\" )"
      ],
      "execution_count": 0,
      "outputs": []
    },
    {
      "cell_type": "markdown",
      "metadata": {
        "id": "M9d6MocdoxAX",
        "colab_type": "text"
      },
      "source": [
        " We can also place an \"r\" before the string to display the backslash:"
      ]
    },
    {
      "cell_type": "code",
      "metadata": {
        "id": "odE7EDo-oxAY",
        "colab_type": "code",
        "colab": {}
      },
      "source": [
        "print(r\" Michael Jackson \\ is the best\" )"
      ],
      "execution_count": 0,
      "outputs": []
    },
    {
      "cell_type": "markdown",
      "metadata": {
        "id": "0gQzWeBsoxAa",
        "colab_type": "text"
      },
      "source": [
        "<a id=\"ref3\"></a>\n",
        "<h2 align=center>String Operations</h2>"
      ]
    },
    {
      "cell_type": "markdown",
      "metadata": {
        "id": "jw-PcFrDoxAa",
        "colab_type": "text"
      },
      "source": [
        "There are many string operation methods in Python that can be used to manipulate the data. We are going to use some basic string operations on the data. \n",
        "\n"
      ]
    },
    {
      "cell_type": "markdown",
      "metadata": {
        "id": "4l3eiGWsoxAb",
        "colab_type": "text"
      },
      "source": [
        "Let's try with the method \"upper\"; this method converts upper case characters to lower case characters:"
      ]
    },
    {
      "cell_type": "code",
      "metadata": {
        "id": "ggbdEnpwoxAb",
        "colab_type": "code",
        "colab": {}
      },
      "source": [
        "A=\"Thriller is the sixth studio album\"\n",
        "print(\"before upper:\",A)\n",
        "B=A.upper()\n",
        "print(\"After upper:\",B)"
      ],
      "execution_count": 0,
      "outputs": []
    },
    {
      "cell_type": "markdown",
      "metadata": {
        "id": "7kqLCgpEoxAc",
        "colab_type": "text"
      },
      "source": [
        "<br>"
      ]
    },
    {
      "cell_type": "markdown",
      "metadata": {
        "id": "DrrJrk03oxAd",
        "colab_type": "text"
      },
      "source": [
        "The method replaces a segment of the string, i.e. a substring  with a new string. We input the part of the string we would like to change. The second argument is what we would like to exchange the segment with, and the result is a new string with the segment changed: \n"
      ]
    },
    {
      "cell_type": "code",
      "metadata": {
        "id": "yLZFGcWaoxAd",
        "colab_type": "code",
        "colab": {
          "base_uri": "https://localhost:8080/",
          "height": 34
        },
        "outputId": "ffda964a-ce86-4d86-8e0f-e6540e9d80df"
      },
      "source": [
        "A=\"Michael Jackson is the best\"\n",
        "B=A.replace('Michael', 'Janet')\n",
        "B"
      ],
      "execution_count": 18,
      "outputs": [
        {
          "output_type": "execute_result",
          "data": {
            "text/plain": [
              "'Janet Jackson is the best'"
            ]
          },
          "metadata": {
            "tags": []
          },
          "execution_count": 18
        }
      ]
    },
    {
      "cell_type": "markdown",
      "metadata": {
        "id": "txWUAN7loxAf",
        "colab_type": "text"
      },
      "source": [
        "The method \"find\" finds a sub-string. The argument is the substring you would like to find, and the output is the first index of the sequence. We can find the sub-string \"jack\" or \"el\".  \n"
      ]
    },
    {
      "cell_type": "code",
      "metadata": {
        "id": "nO8qaoVnoxAg",
        "colab_type": "code",
        "colab": {}
      },
      "source": [
        "Name=\"Michael Jackson\"\n",
        "Name.find('el')"
      ],
      "execution_count": 0,
      "outputs": []
    },
    {
      "cell_type": "code",
      "metadata": {
        "id": "IIk1xO65oxAh",
        "colab_type": "code",
        "colab": {}
      },
      "source": [
        "Name.find('Jack')"
      ],
      "execution_count": 0,
      "outputs": []
    },
    {
      "cell_type": "markdown",
      "metadata": {
        "id": "rM1nRABboxAl",
        "colab_type": "text"
      },
      "source": [
        "If the  sub-string is not in the string then the output is a negative one. For example, the string 'Jasdfasdasdf' is not a substring:"
      ]
    },
    {
      "cell_type": "code",
      "metadata": {
        "id": "HVtEm0gAoxAl",
        "colab_type": "code",
        "colab": {}
      },
      "source": [
        "Name.find('Jasdfasdasdf')"
      ],
      "execution_count": 0,
      "outputs": []
    },
    {
      "cell_type": "markdown",
      "metadata": {
        "id": "8hY6M1iVoxAn",
        "colab_type": "text"
      },
      "source": [
        " <a id=\"ref4\"></a>\n",
        "<h2 align=center> Quiz on Strings </h2>"
      ]
    },
    {
      "cell_type": "markdown",
      "metadata": {
        "id": "y95ZhLrqoxAo",
        "colab_type": "text"
      },
      "source": [
        "##### What is the value of the variable \"A\" after the following code is executed? \n",
        "A=\"1\""
      ]
    },
    {
      "cell_type": "code",
      "metadata": {
        "id": "Zzy5v9UioxAo",
        "colab_type": "code",
        "outputId": "046a0944-3fbb-45f3-ce81-31cac4d07108",
        "colab": {
          "base_uri": "https://localhost:8080/",
          "height": 34
        }
      },
      "source": [
        "\"A\""
      ],
      "execution_count": 19,
      "outputs": [
        {
          "output_type": "execute_result",
          "data": {
            "text/plain": [
              "'A'"
            ]
          },
          "metadata": {
            "tags": []
          },
          "execution_count": 19
        }
      ]
    },
    {
      "cell_type": "markdown",
      "metadata": {
        "id": "pCBmohoXoxAt",
        "colab_type": "text"
      },
      "source": [
        " <div align=\"right\">\n",
        "<a href=\"#String1\" class=\"btn btn-default\" data-toggle=\"collapse\">Click here for the solution</a>\n",
        "\n",
        "</div>\n",
        "<div id=\"String1\" class=\"collapse\">\n",
        "```\n",
        "\"1\"\n",
        "```\n",
        "</div>\n"
      ]
    },
    {
      "cell_type": "markdown",
      "metadata": {
        "id": "QdvK1ZcpoxAt",
        "colab_type": "text"
      },
      "source": [
        "#### What is the value of the variable \"B\" after the following code is executed?\n",
        "`B=\"2\"`"
      ]
    },
    {
      "cell_type": "code",
      "metadata": {
        "id": "WvbtXjPyoxAu",
        "colab_type": "code",
        "colab": {}
      },
      "source": [
        "2"
      ],
      "execution_count": 0,
      "outputs": []
    },
    {
      "cell_type": "markdown",
      "metadata": {
        "id": "_39Q8sXCoxAw",
        "colab_type": "text"
      },
      "source": [
        "<div align=\"right\">\n",
        "<a href=\"#String2\" class=\"btn btn-default\" data-toggle=\"collapse\">Click here for the solution</a>\n",
        "\n",
        "</div>\n",
        "<div id=\"String2\" class=\"collapse\">\n",
        "```\n",
        "\"2\"\n",
        "```\n",
        "</div>"
      ]
    },
    {
      "cell_type": "markdown",
      "metadata": {
        "id": "nVQfrhJ0oxAw",
        "colab_type": "text"
      },
      "source": [
        "#### What is the value of the variable \"C\" after the following code is executed?\n",
        "`C=A+B`"
      ]
    },
    {
      "cell_type": "code",
      "metadata": {
        "id": "4sue75cyoxAw",
        "colab_type": "code",
        "colab": {}
      },
      "source": [
        ""
      ],
      "execution_count": 0,
      "outputs": []
    },
    {
      "cell_type": "markdown",
      "metadata": {
        "id": "EJoPRXC5oxAy",
        "colab_type": "text"
      },
      "source": [
        " <div align=\"right\">\n",
        "<a href=\"#String3\" class=\"btn btn-default\" data-toggle=\"collapse\">Click here for the solution</a>\n",
        "\n",
        "</div>\n",
        "<div id=\"String3\" class=\"collapse\">\n",
        "```\n",
        "\"12\"\n",
        "```\n",
        "</div>"
      ]
    },
    {
      "cell_type": "markdown",
      "metadata": {
        "id": "jTb4He-DoxAy",
        "colab_type": "text"
      },
      "source": [
        "#### Consider the variable \"D\": use slicing to print out the first three elements: \n"
      ]
    },
    {
      "cell_type": "code",
      "metadata": {
        "id": "wXxCuWreoxAz",
        "colab_type": "code",
        "colab": {}
      },
      "source": [
        "D=\"ABCDEFG\""
      ],
      "execution_count": 0,
      "outputs": []
    },
    {
      "cell_type": "code",
      "metadata": {
        "id": "kau554vgoxA0",
        "colab_type": "code",
        "colab": {}
      },
      "source": [
        ""
      ],
      "execution_count": 0,
      "outputs": []
    },
    {
      "cell_type": "markdown",
      "metadata": {
        "id": "7X0HVlfhoxA2",
        "colab_type": "text"
      },
      "source": [
        " <div align=\"right\">\n",
        "<a href=\"#String4\" class=\"btn btn-default\" data-toggle=\"collapse\">Click here for the solution</a>\n",
        "\n",
        "</div>\n",
        "<div id=\"String4\" class=\"collapse\">\n",
        "```\n",
        "\"print(D[:3]) or print(D[0:3])\"\n",
        "```\n",
        "</div>"
      ]
    },
    {
      "cell_type": "markdown",
      "metadata": {
        "id": "M5FfKbvjoxA3",
        "colab_type": "text"
      },
      "source": [
        "#### Use a stride value of 2 to print out every second character  of the string \"E\": "
      ]
    },
    {
      "cell_type": "code",
      "metadata": {
        "id": "5etMTIqjoxA5",
        "colab_type": "code",
        "colab": {}
      },
      "source": [
        "E='clocrkr1e1c1t'"
      ],
      "execution_count": 0,
      "outputs": []
    },
    {
      "cell_type": "code",
      "metadata": {
        "id": "WGt_aKQMoxA6",
        "colab_type": "code",
        "colab": {}
      },
      "source": [
        ""
      ],
      "execution_count": 0,
      "outputs": []
    },
    {
      "cell_type": "markdown",
      "metadata": {
        "id": "4AGzTcuHoxA9",
        "colab_type": "text"
      },
      "source": [
        "#### Print out a backslash:"
      ]
    },
    {
      "cell_type": "code",
      "metadata": {
        "id": "9TC-SUEaoxA9",
        "colab_type": "code",
        "colab": {}
      },
      "source": [
        ""
      ],
      "execution_count": 0,
      "outputs": []
    },
    {
      "cell_type": "markdown",
      "metadata": {
        "id": "wGZBMTNFoxA_",
        "colab_type": "text"
      },
      "source": [
        "#### Convert the variable \"F\" to uppercase:"
      ]
    },
    {
      "cell_type": "code",
      "metadata": {
        "id": "-mI9aCF4oxBA",
        "colab_type": "code",
        "colab": {}
      },
      "source": [
        "F=\"You are wrong\""
      ],
      "execution_count": 0,
      "outputs": []
    },
    {
      "cell_type": "code",
      "metadata": {
        "id": "by0ZmTvxoxBB",
        "colab_type": "code",
        "colab": {}
      },
      "source": [
        ""
      ],
      "execution_count": 0,
      "outputs": []
    },
    {
      "cell_type": "markdown",
      "metadata": {
        "id": "2DNBMHTEoxBC",
        "colab_type": "text"
      },
      "source": [
        " <div align=\"right\">\n",
        "<a href=\"#String8\" class=\"btn btn-default\" data-toggle=\"collapse\">Click here for the solution</a>\n",
        "\n",
        "</div>\n",
        "<div id=\"String8\" class=\"collapse\">\n",
        "```\n",
        "F.upper()\n",
        "```\n",
        "</div>"
      ]
    },
    {
      "cell_type": "markdown",
      "metadata": {
        "id": "2C2ZCIlooxBD",
        "colab_type": "text"
      },
      "source": [
        "#### Consider the variable \"G\", and find the first index of the sub-string 'snow':"
      ]
    },
    {
      "cell_type": "code",
      "metadata": {
        "id": "gc8s_6waoxBD",
        "colab_type": "code",
        "colab": {}
      },
      "source": [
        "G=\"Mary had a little lamb Little lamb, little lamb Mary had a little lamb \\\n",
        "Its fleece was white as snow And everywhere that Mary went Mary went, Mary went \\\n",
        "Everywhere that Mary went The lamb was sure to go\""
      ],
      "execution_count": 0,
      "outputs": []
    },
    {
      "cell_type": "code",
      "metadata": {
        "id": "7OhIlP5NoxBE",
        "colab_type": "code",
        "colab": {}
      },
      "source": [
        ""
      ],
      "execution_count": 0,
      "outputs": []
    },
    {
      "cell_type": "markdown",
      "metadata": {
        "id": "Rljgh96XoxBF",
        "colab_type": "text"
      },
      "source": [
        " <div align=\"right\">\n",
        "<a href=\"#String9\" class=\"btn btn-default\" data-toggle=\"collapse\">Click here for the solution</a>\n",
        "\n",
        "</div>\n",
        "<div id=\"String9\" class=\"collapse\">\n",
        "```\n",
        "G.find('snow')\n",
        "```\n",
        "</div>"
      ]
    },
    {
      "cell_type": "markdown",
      "metadata": {
        "id": "-Xk9maVEoxBG",
        "colab_type": "text"
      },
      "source": [
        "#### In the variable \"G\", replace the sub-string Mary with \"Bob\":"
      ]
    },
    {
      "cell_type": "code",
      "metadata": {
        "id": "LNRlLAjAoxBG",
        "colab_type": "code",
        "colab": {}
      },
      "source": [
        ""
      ],
      "execution_count": 0,
      "outputs": []
    },
    {
      "cell_type": "code",
      "metadata": {
        "id": "Un5SrxGFoxBK",
        "colab_type": "code",
        "colab": {}
      },
      "source": [
        ""
      ],
      "execution_count": 0,
      "outputs": []
    }
  ]
}